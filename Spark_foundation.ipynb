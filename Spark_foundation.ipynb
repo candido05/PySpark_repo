{
  "nbformat": 4,
  "nbformat_minor": 0,
  "metadata": {
    "colab": {
      "provenance": [],
      "authorship_tag": "ABX9TyNfHISKd5rEE2ALnTg6y1U8",
      "include_colab_link": true
    },
    "kernelspec": {
      "name": "python3",
      "display_name": "Python 3"
    },
    "language_info": {
      "name": "python"
    }
  },
  "cells": [
    {
      "cell_type": "markdown",
      "metadata": {
        "id": "view-in-github",
        "colab_type": "text"
      },
      "source": [
        "<a href=\"https://colab.research.google.com/github/candido05/PySpark_repo/blob/main/Spark_foundation.ipynb\" target=\"_parent\"><img src=\"https://colab.research.google.com/assets/colab-badge.svg\" alt=\"Open In Colab\"/></a>"
      ]
    },
    {
      "cell_type": "code",
      "execution_count": 1,
      "metadata": {
        "colab": {
          "base_uri": "https://localhost:8080/"
        },
        "id": "y__G8Cw3f5vH",
        "outputId": "950adf25-8dfb-49b5-d13b-340cb9c76f16"
      },
      "outputs": [
        {
          "output_type": "stream",
          "name": "stdout",
          "text": [
            "Requirement already satisfied: pyspark in /usr/local/lib/python3.11/dist-packages (3.5.5)\n",
            "Requirement already satisfied: py4j==0.10.9.7 in /usr/local/lib/python3.11/dist-packages (from pyspark) (0.10.9.7)\n"
          ]
        }
      ],
      "source": [
        "!pip install pyspark"
      ]
    },
    {
      "cell_type": "code",
      "source": [
        "from pyspark import SparkContext\n",
        "\n",
        "sc = SparkContext(appName=\"My First Spark Application\")"
      ],
      "metadata": {
        "id": "5SorBiOWhM-1"
      },
      "execution_count": 2,
      "outputs": []
    },
    {
      "cell_type": "code",
      "source": [
        "sc"
      ],
      "metadata": {
        "colab": {
          "base_uri": "https://localhost:8080/",
          "height": 196
        },
        "id": "7Zqspms1h3_J",
        "outputId": "6dc7a680-f6e3-452d-afe5-0d4c4a771ee1"
      },
      "execution_count": 3,
      "outputs": [
        {
          "output_type": "execute_result",
          "data": {
            "text/plain": [
              "<SparkContext master=local[*] appName=My First Spark Application>"
            ],
            "text/html": [
              "\n",
              "        <div>\n",
              "            <p><b>SparkContext</b></p>\n",
              "\n",
              "            <p><a href=\"http://bfb6da1d7c77:4040\">Spark UI</a></p>\n",
              "\n",
              "            <dl>\n",
              "              <dt>Version</dt>\n",
              "                <dd><code>v3.5.5</code></dd>\n",
              "              <dt>Master</dt>\n",
              "                <dd><code>local[*]</code></dd>\n",
              "              <dt>AppName</dt>\n",
              "                <dd><code>My First Spark Application</code></dd>\n",
              "            </dl>\n",
              "        </div>\n",
              "        "
            ]
          },
          "metadata": {},
          "execution_count": 3
        }
      ]
    },
    {
      "cell_type": "code",
      "source": [
        "sc.stop()"
      ],
      "metadata": {
        "id": "RBOJnoQHh8Xx"
      },
      "execution_count": 4,
      "outputs": []
    },
    {
      "cell_type": "markdown",
      "source": [
        "# Criando SparkContext no Apache Spark nas versões 2.x"
      ],
      "metadata": {
        "id": "r_g1Uli8ib2P"
      }
    },
    {
      "cell_type": "code",
      "source": [
        "from pyspark.sql import SparkSession\n",
        "\n",
        "spark = SparkSession.builder \\\n",
        "    .appName(\"My First Spark Application\") \\\n",
        "    .getOrCreate()\n",
        "\n",
        "sc = spark.sparkContext"
      ],
      "metadata": {
        "id": "KZSD3RpZiaYm"
      },
      "execution_count": 5,
      "outputs": []
    },
    {
      "cell_type": "code",
      "source": [
        "sc"
      ],
      "metadata": {
        "colab": {
          "base_uri": "https://localhost:8080/",
          "height": 196
        },
        "id": "iOUmyTO2iYN8",
        "outputId": "8f1d448e-8564-4a34-fa94-b368e402a1d4"
      },
      "execution_count": 6,
      "outputs": [
        {
          "output_type": "execute_result",
          "data": {
            "text/plain": [
              "<SparkContext master=local[*] appName=My First Spark Application>"
            ],
            "text/html": [
              "\n",
              "        <div>\n",
              "            <p><b>SparkContext</b></p>\n",
              "\n",
              "            <p><a href=\"http://bfb6da1d7c77:4040\">Spark UI</a></p>\n",
              "\n",
              "            <dl>\n",
              "              <dt>Version</dt>\n",
              "                <dd><code>v3.5.5</code></dd>\n",
              "              <dt>Master</dt>\n",
              "                <dd><code>local[*]</code></dd>\n",
              "              <dt>AppName</dt>\n",
              "                <dd><code>My First Spark Application</code></dd>\n",
              "            </dl>\n",
              "        </div>\n",
              "        "
            ]
          },
          "metadata": {},
          "execution_count": 6
        }
      ]
    },
    {
      "cell_type": "code",
      "source": [
        "sc.stop()"
      ],
      "metadata": {
        "id": "CLuOtZrZjEGn"
      },
      "execution_count": 7,
      "outputs": []
    },
    {
      "cell_type": "markdown",
      "source": [
        "# Criando uma SparkSession"
      ],
      "metadata": {
        "id": "aY4fpmAej1se"
      }
    },
    {
      "cell_type": "code",
      "source": [
        "spark_ss = SparkSession.builder \\\n",
        "    .appName(\"Second Spark Application\") \\\n",
        "    .config(\"spark.executor.memory\", \"2g\") \\\n",
        "    .config(\"spark.sql.shuffle.partitions\", \"4\") \\\n",
        "    .getOrCreate()"
      ],
      "metadata": {
        "id": "XAgVniaVjLma"
      },
      "execution_count": 8,
      "outputs": []
    },
    {
      "cell_type": "code",
      "source": [
        "spark_ss"
      ],
      "metadata": {
        "colab": {
          "base_uri": "https://localhost:8080/",
          "height": 219
        },
        "id": "bRx39bC9khdB",
        "outputId": "4c8a9685-1571-498b-d7e4-7b254d34acd6"
      },
      "execution_count": 9,
      "outputs": [
        {
          "output_type": "execute_result",
          "data": {
            "text/plain": [
              "<pyspark.sql.session.SparkSession at 0x7abba4366dd0>"
            ],
            "text/html": [
              "\n",
              "            <div>\n",
              "                <p><b>SparkSession - in-memory</b></p>\n",
              "                \n",
              "        <div>\n",
              "            <p><b>SparkContext</b></p>\n",
              "\n",
              "            <p><a href=\"http://bfb6da1d7c77:4040\">Spark UI</a></p>\n",
              "\n",
              "            <dl>\n",
              "              <dt>Version</dt>\n",
              "                <dd><code>v3.5.5</code></dd>\n",
              "              <dt>Master</dt>\n",
              "                <dd><code>local[*]</code></dd>\n",
              "              <dt>AppName</dt>\n",
              "                <dd><code>Second Spark Application</code></dd>\n",
              "            </dl>\n",
              "        </div>\n",
              "        \n",
              "            </div>\n",
              "        "
            ]
          },
          "metadata": {},
          "execution_count": 9
        }
      ]
    },
    {
      "cell_type": "code",
      "source": [
        "spark_ss.stop()"
      ],
      "metadata": {
        "id": "6HyKXBiAki4s"
      },
      "execution_count": 10,
      "outputs": []
    },
    {
      "cell_type": "markdown",
      "source": [
        "# RDDs"
      ],
      "metadata": {
        "id": "1mwjnnMEnYoG"
      }
    },
    {
      "cell_type": "code",
      "source": [
        "spark = SparkSession.builder.appName(\"RDD_Demo\").getOrCreate()"
      ],
      "metadata": {
        "id": "B-38JVk-ktF1"
      },
      "execution_count": 11,
      "outputs": []
    },
    {
      "cell_type": "code",
      "source": [
        "spark"
      ],
      "metadata": {
        "colab": {
          "base_uri": "https://localhost:8080/",
          "height": 219
        },
        "id": "stiMcBJ0r0Mx",
        "outputId": "3855a410-0be6-427a-e0fc-1209699d5419"
      },
      "execution_count": 12,
      "outputs": [
        {
          "output_type": "execute_result",
          "data": {
            "text/plain": [
              "<pyspark.sql.session.SparkSession at 0x7abba4366390>"
            ],
            "text/html": [
              "\n",
              "            <div>\n",
              "                <p><b>SparkSession - in-memory</b></p>\n",
              "                \n",
              "        <div>\n",
              "            <p><b>SparkContext</b></p>\n",
              "\n",
              "            <p><a href=\"http://bfb6da1d7c77:4040\">Spark UI</a></p>\n",
              "\n",
              "            <dl>\n",
              "              <dt>Version</dt>\n",
              "                <dd><code>v3.5.5</code></dd>\n",
              "              <dt>Master</dt>\n",
              "                <dd><code>local[*]</code></dd>\n",
              "              <dt>AppName</dt>\n",
              "                <dd><code>RDD_Demo</code></dd>\n",
              "            </dl>\n",
              "        </div>\n",
              "        \n",
              "            </div>\n",
              "        "
            ]
          },
          "metadata": {},
          "execution_count": 12
        }
      ]
    },
    {
      "cell_type": "code",
      "source": [
        "numbers = [1, 2, 3, 4, 5, 6, 7, 8, 9, 10]\n",
        "rdd = spark.sparkContext.parallelize(numbers)"
      ],
      "metadata": {
        "id": "aP6bvKITr1UB"
      },
      "execution_count": 13,
      "outputs": []
    },
    {
      "cell_type": "code",
      "source": [
        "rdd"
      ],
      "metadata": {
        "colab": {
          "base_uri": "https://localhost:8080/"
        },
        "id": "zfSenwfasJQB",
        "outputId": "90960f98-02f3-430e-b58f-b8b75abae7ed"
      },
      "execution_count": 14,
      "outputs": [
        {
          "output_type": "execute_result",
          "data": {
            "text/plain": [
              "ParallelCollectionRDD[0] at readRDDFromFile at PythonRDD.scala:289"
            ]
          },
          "metadata": {},
          "execution_count": 14
        }
      ]
    },
    {
      "cell_type": "code",
      "source": [
        "rdd.collect()"
      ],
      "metadata": {
        "colab": {
          "base_uri": "https://localhost:8080/"
        },
        "id": "CW15PwlWsKdC",
        "outputId": "7b93fd11-2ffb-4b67-b7f4-b7ed66f25bd2"
      },
      "execution_count": 15,
      "outputs": [
        {
          "output_type": "execute_result",
          "data": {
            "text/plain": [
              "[1, 2, 3, 4, 5, 6, 7, 8, 9, 10]"
            ]
          },
          "metadata": {},
          "execution_count": 15
        }
      ]
    },
    {
      "cell_type": "code",
      "source": [
        "data = [(\"Alice\", 25), (\"Bob\", 30), (\"Charlie\", 35), (\"David\", 28)]\n",
        "rdd = spark.sparkContext.parallelize(data)"
      ],
      "metadata": {
        "id": "GycEyzvnsNlX"
      },
      "execution_count": 16,
      "outputs": []
    },
    {
      "cell_type": "code",
      "source": [
        "print(\"Todos os elementos de rdd: \",rdd.collect())"
      ],
      "metadata": {
        "colab": {
          "base_uri": "https://localhost:8080/"
        },
        "id": "nbpwl4xdsaDD",
        "outputId": "0323eac6-b25d-4581-9889-532c0223c1c3"
      },
      "execution_count": 17,
      "outputs": [
        {
          "output_type": "stream",
          "name": "stdout",
          "text": [
            "Todos os elementos de rdd:  [('Alice', 25), ('Bob', 30), ('Charlie', 35), ('David', 28)]\n"
          ]
        }
      ]
    },
    {
      "cell_type": "markdown",
      "source": [
        "### RDDs Operações: Actions"
      ],
      "metadata": {
        "id": "vNjowhf7sis0"
      }
    },
    {
      "cell_type": "code",
      "source": [
        "count = rdd.count()\n",
        "print(\"Número de elementos no RDD:\", count)"
      ],
      "metadata": {
        "colab": {
          "base_uri": "https://localhost:8080/"
        },
        "id": "n4QKEefhsv27",
        "outputId": "1b33c510-6fb6-4988-f4aa-27c93838790e"
      },
      "execution_count": 18,
      "outputs": [
        {
          "output_type": "stream",
          "name": "stdout",
          "text": [
            "Número de elementos no RDD: 4\n"
          ]
        }
      ]
    },
    {
      "cell_type": "code",
      "source": [
        "firsr_element = rdd.first()\n",
        "print(\"Primeiro elemento do RDD:\", firsr_element)"
      ],
      "metadata": {
        "colab": {
          "base_uri": "https://localhost:8080/"
        },
        "id": "bPy8it-ysgDa",
        "outputId": "977b4af9-42d5-4eaf-c9e3-02469c9dcf18"
      },
      "execution_count": 19,
      "outputs": [
        {
          "output_type": "stream",
          "name": "stdout",
          "text": [
            "Primeiro elemento do RDD: ('Alice', 25)\n"
          ]
        }
      ]
    },
    {
      "cell_type": "code",
      "source": [
        "taken_elements = rdd.take(3)\n",
        "print(\"Os três primeiros elementos do RDD:\", taken_elements)"
      ],
      "metadata": {
        "colab": {
          "base_uri": "https://localhost:8080/"
        },
        "id": "Zo58sb0As7KH",
        "outputId": "98f958a7-4a75-41fc-d5e0-c39abcde7434"
      },
      "execution_count": 20,
      "outputs": [
        {
          "output_type": "stream",
          "name": "stdout",
          "text": [
            "Os três primeiros elementos do RDD: [('Alice', 25), ('Bob', 30), ('Charlie', 35)]\n"
          ]
        }
      ]
    },
    {
      "cell_type": "markdown",
      "source": [
        "### RDDS Operações: Transformations"
      ],
      "metadata": {
        "id": "Ju-RnwM_tSTq"
      }
    },
    {
      "cell_type": "code",
      "source": [
        "mapped_rdd = rdd.map(lambda x: (x[0].upper(), x[1]))\n",
        "result = mapped_rdd.collect()\n",
        "print(\"RDD após mapeamento:\", result)"
      ],
      "metadata": {
        "colab": {
          "base_uri": "https://localhost:8080/"
        },
        "id": "jVSnzrx5tGj7",
        "outputId": "8ca062c1-acda-479a-8cae-ff655208946f"
      },
      "execution_count": 21,
      "outputs": [
        {
          "output_type": "stream",
          "name": "stdout",
          "text": [
            "RDD após mapeamento: [('ALICE', 25), ('BOB', 30), ('CHARLIE', 35), ('DAVID', 28)]\n"
          ]
        }
      ]
    },
    {
      "cell_type": "code",
      "source": [
        "filtered_rdd = rdd.filter(lambda x: x[1] > 25)\n",
        "result = filtered_rdd.collect()\n",
        "print(\"RDD após filtro:\", result)"
      ],
      "metadata": {
        "colab": {
          "base_uri": "https://localhost:8080/"
        },
        "id": "gUGQGas_tvfq",
        "outputId": "d66d50f6-91a5-4238-dafc-2d197edb7336"
      },
      "execution_count": 22,
      "outputs": [
        {
          "output_type": "stream",
          "name": "stdout",
          "text": [
            "RDD após filtro: [('Bob', 30), ('Charlie', 35), ('David', 28)]\n"
          ]
        }
      ]
    },
    {
      "cell_type": "code",
      "source": [
        "reduced_rdd = rdd.reduceByKey(lambda x, y: x - y)\n",
        "reduced_rdd.collect()"
      ],
      "metadata": {
        "colab": {
          "base_uri": "https://localhost:8080/"
        },
        "id": "Zu1Ctv2Tt2kd",
        "outputId": "79b50cbe-89da-4763-d7e4-a69b831a117f"
      },
      "execution_count": 23,
      "outputs": [
        {
          "output_type": "execute_result",
          "data": {
            "text/plain": [
              "[('Alice', 25), ('Bob', 30), ('Charlie', 35), ('David', 28)]"
            ]
          },
          "metadata": {},
          "execution_count": 23
        }
      ]
    },
    {
      "cell_type": "code",
      "source": [
        "sorted_rdd = rdd.sortBy(lambda x: x[1], ascending=False)\n",
        "sorted_rdd.collect()"
      ],
      "metadata": {
        "colab": {
          "base_uri": "https://localhost:8080/"
        },
        "id": "NKl2LbSRyqKW",
        "outputId": "766800d2-e229-4835-9391-c8b3bb850cb7"
      },
      "execution_count": 24,
      "outputs": [
        {
          "output_type": "execute_result",
          "data": {
            "text/plain": [
              "[('Charlie', 35), ('Bob', 30), ('David', 28), ('Alice', 25)]"
            ]
          },
          "metadata": {},
          "execution_count": 24
        }
      ]
    },
    {
      "cell_type": "markdown",
      "source": [
        "# Salver RDDs para arquivo de texto"
      ],
      "metadata": {
        "id": "8nDUSR0xzFdh"
      }
    },
    {
      "cell_type": "code",
      "source": [
        "rdd.saveAsTextFile(\"rdd_output.txt\")"
      ],
      "metadata": {
        "id": "4E3VIVcIzC9N"
      },
      "execution_count": 25,
      "outputs": []
    },
    {
      "cell_type": "code",
      "source": [
        "rdd_text = spark.sparkContext.textFile(\"rdd_output.txt\")\n",
        "rdd_text.collect()"
      ],
      "metadata": {
        "colab": {
          "base_uri": "https://localhost:8080/"
        },
        "id": "D9y_dVMszcBU",
        "outputId": "3d22e6e8-139a-4688-b79a-3413234a4d5c"
      },
      "execution_count": 26,
      "outputs": [
        {
          "output_type": "execute_result",
          "data": {
            "text/plain": [
              "[\"('Charlie', 35)\", \"('David', 28)\", \"('Alice', 25)\", \"('Bob', 30)\"]"
            ]
          },
          "metadata": {},
          "execution_count": 26
        }
      ]
    },
    {
      "cell_type": "code",
      "source": [
        "spark.stop()"
      ],
      "metadata": {
        "id": "tydQrVPBzjfN"
      },
      "execution_count": 27,
      "outputs": []
    },
    {
      "cell_type": "markdown",
      "source": [
        "# Spark DataFrames"
      ],
      "metadata": {
        "id": "7x0ydtvYz3Ev"
      }
    },
    {
      "cell_type": "code",
      "source": [
        "from pyspark.sql.functions import desc"
      ],
      "metadata": {
        "id": "sfliOo2UztgF"
      },
      "execution_count": 28,
      "outputs": []
    },
    {
      "cell_type": "code",
      "source": [
        "spark = SparkSession.builder.appName(\"DataFrame_Demo\").getOrCreate()"
      ],
      "metadata": {
        "id": "FMJqGQfG4-6v"
      },
      "execution_count": 29,
      "outputs": []
    },
    {
      "cell_type": "code",
      "source": [
        "rdd = spark.sparkContext.textFile(\"/content/texto.txt\")\n",
        "result_rdd = rdd.flatMap(lambda line: line.split(\" \")) \\\n",
        "                .map(lambda word: (word, 1)) \\\n",
        "                .reduceByKey(lambda a, b: a + b) \\\n",
        "                .sortBy(lambda x: x[1], ascending=False)"
      ],
      "metadata": {
        "id": "eD8p8c06499n"
      },
      "execution_count": 32,
      "outputs": []
    },
    {
      "cell_type": "code",
      "source": [
        "result_rdd.take(10)"
      ],
      "metadata": {
        "colab": {
          "base_uri": "https://localhost:8080/"
        },
        "id": "OVhJ6e4s8UCk",
        "outputId": "41de4bd6-c8ec-4459-fdd9-1497bcc5d9be"
      },
      "execution_count": 33,
      "outputs": [
        {
          "output_type": "execute_result",
          "data": {
            "text/plain": [
              "[('the', 12),\n",
              " ('of', 7),\n",
              " ('a', 7),\n",
              " ('distributed', 5),\n",
              " ('in', 5),\n",
              " ('Spark', 4),\n",
              " ('as', 3),\n",
              " ('is', 3),\n",
              " ('API', 3),\n",
              " ('on', 3)]"
            ]
          },
          "metadata": {},
          "execution_count": 33
        }
      ]
    },
    {
      "cell_type": "code",
      "source": [
        "df = spark.read.text(\"/content/texto.txt\")\n",
        "result_df = df.selectExpr(\"explode(split(value, ' ')) as word\") \\\n",
        "              .groupBy(\"word\") \\\n",
        "              .count() \\\n",
        "              .orderBy(desc(\"count\"))"
      ],
      "metadata": {
        "id": "si-luvjf8aOq"
      },
      "execution_count": 34,
      "outputs": []
    },
    {
      "cell_type": "code",
      "source": [
        "result_df.take(10)"
      ],
      "metadata": {
        "colab": {
          "base_uri": "https://localhost:8080/"
        },
        "id": "7YpqiG3n8r98",
        "outputId": "7c421245-e501-4857-f15e-d4410c2d4f2e"
      },
      "execution_count": 35,
      "outputs": [
        {
          "output_type": "execute_result",
          "data": {
            "text/plain": [
              "[Row(word='the', count=12),\n",
              " Row(word='of', count=7),\n",
              " Row(word='a', count=7),\n",
              " Row(word='in', count=5),\n",
              " Row(word='distributed', count=5),\n",
              " Row(word='Spark', count=4),\n",
              " Row(word='API', count=3),\n",
              " Row(word='RDD', count=3),\n",
              " Row(word='is', count=3),\n",
              " Row(word='on', count=3)]"
            ]
          },
          "metadata": {},
          "execution_count": 35
        }
      ]
    },
    {
      "cell_type": "code",
      "source": [
        "spark.stop()"
      ],
      "metadata": {
        "id": "mWyubZ5n8u33"
      },
      "execution_count": 36,
      "outputs": []
    },
    {
      "cell_type": "markdown",
      "source": [
        "## Lendo arquivos CSVs"
      ],
      "metadata": {
        "id": "045dcHL_3FkB"
      }
    },
    {
      "cell_type": "code",
      "source": [
        "spark = SparkSession.builder.appName(\"DataFrame_read\").getOrCreate()"
      ],
      "metadata": {
        "id": "NmlYbJkb4coI"
      },
      "execution_count": 40,
      "outputs": []
    },
    {
      "cell_type": "code",
      "source": [
        "csv_file_path = \"/content/sample_data/california_housing_train.csv\"\n",
        "df = spark.read.csv(csv_file_path, header=True)"
      ],
      "metadata": {
        "id": "2Qf3YaJc29Wt"
      },
      "execution_count": 44,
      "outputs": []
    },
    {
      "cell_type": "code",
      "source": [
        "df.printSchema()"
      ],
      "metadata": {
        "colab": {
          "base_uri": "https://localhost:8080/"
        },
        "id": "OFIXB5Hf82vC",
        "outputId": "3ad37db7-51ea-4ccd-d4aa-0fcd4b92a1f6"
      },
      "execution_count": 45,
      "outputs": [
        {
          "output_type": "stream",
          "name": "stdout",
          "text": [
            "root\n",
            " |-- longitude: string (nullable = true)\n",
            " |-- latitude: string (nullable = true)\n",
            " |-- housing_median_age: string (nullable = true)\n",
            " |-- total_rooms: string (nullable = true)\n",
            " |-- total_bedrooms: string (nullable = true)\n",
            " |-- population: string (nullable = true)\n",
            " |-- households: string (nullable = true)\n",
            " |-- median_income: string (nullable = true)\n",
            " |-- median_house_value: string (nullable = true)\n",
            "\n"
          ]
        }
      ]
    },
    {
      "cell_type": "code",
      "source": [
        "df.show(10)"
      ],
      "metadata": {
        "colab": {
          "base_uri": "https://localhost:8080/"
        },
        "id": "1ddkYIT53Opf",
        "outputId": "336da24a-bfe7-4fd2-f4fa-6e7af31b313c"
      },
      "execution_count": 46,
      "outputs": [
        {
          "output_type": "stream",
          "name": "stdout",
          "text": [
            "+-----------+---------+------------------+-----------+--------------+-----------+-----------+-------------+------------------+\n",
            "|  longitude| latitude|housing_median_age|total_rooms|total_bedrooms| population| households|median_income|median_house_value|\n",
            "+-----------+---------+------------------+-----------+--------------+-----------+-----------+-------------+------------------+\n",
            "|-114.310000|34.190000|         15.000000|5612.000000|   1283.000000|1015.000000| 472.000000|     1.493600|      66900.000000|\n",
            "|-114.470000|34.400000|         19.000000|7650.000000|   1901.000000|1129.000000| 463.000000|     1.820000|      80100.000000|\n",
            "|-114.560000|33.690000|         17.000000| 720.000000|    174.000000| 333.000000| 117.000000|     1.650900|      85700.000000|\n",
            "|-114.570000|33.640000|         14.000000|1501.000000|    337.000000| 515.000000| 226.000000|     3.191700|      73400.000000|\n",
            "|-114.570000|33.570000|         20.000000|1454.000000|    326.000000| 624.000000| 262.000000|     1.925000|      65500.000000|\n",
            "|-114.580000|33.630000|         29.000000|1387.000000|    236.000000| 671.000000| 239.000000|     3.343800|      74000.000000|\n",
            "|-114.580000|33.610000|         25.000000|2907.000000|    680.000000|1841.000000| 633.000000|     2.676800|      82400.000000|\n",
            "|-114.590000|34.830000|         41.000000| 812.000000|    168.000000| 375.000000| 158.000000|     1.708300|      48500.000000|\n",
            "|-114.590000|33.610000|         34.000000|4789.000000|   1175.000000|3134.000000|1056.000000|     2.178200|      58400.000000|\n",
            "|-114.600000|34.830000|         46.000000|1497.000000|    309.000000| 787.000000| 271.000000|     2.190800|      48100.000000|\n",
            "+-----------+---------+------------------+-----------+--------------+-----------+-----------+-------------+------------------+\n",
            "only showing top 10 rows\n",
            "\n"
          ]
        }
      ]
    },
    {
      "cell_type": "markdown",
      "source": [
        "## Lendo CSV com a definição explicita de schema"
      ],
      "metadata": {
        "id": "AW8u5PIF4vCc"
      }
    },
    {
      "cell_type": "code",
      "source": [
        "from pyspark.sql.types import StructType, StructField, StringType, IntegerType, DoubleType"
      ],
      "metadata": {
        "id": "S8-dtaec4jWi"
      },
      "execution_count": 48,
      "outputs": []
    },
    {
      "cell_type": "code",
      "source": [
        " schema = StructType([\n",
        "    StructField(\"longitude\", DoubleType(), True),\n",
        "    StructField(\"latitude\", DoubleType(), True),\n",
        "    StructField(\"housing_median_age\", DoubleType(), True),\n",
        "    StructField(\"total_rooms\", DoubleType(), True),\n",
        "    StructField(\"total_bedrooms\", DoubleType(), True),\n",
        "    StructField(\"population\", DoubleType(), True),\n",
        "    StructField(\"households\", DoubleType(), True),\n",
        "    StructField(\"median_income\", DoubleType(), True),\n",
        "    StructField(\"median_house_value\", DoubleType(), True),\n",
        "])"
      ],
      "metadata": {
        "id": "IdPyDLIb5C7t"
      },
      "execution_count": 54,
      "outputs": []
    },
    {
      "cell_type": "code",
      "source": [
        "csv_file_path_schema = \"/content/sample_data/california_housing_train.csv\"\n",
        "df = spark.read.csv(csv_file_path_schema, header=True, schema=schema)"
      ],
      "metadata": {
        "id": "qo0vfLfI518k"
      },
      "execution_count": 55,
      "outputs": []
    },
    {
      "cell_type": "code",
      "source": [
        "df.printSchema()"
      ],
      "metadata": {
        "colab": {
          "base_uri": "https://localhost:8080/"
        },
        "id": "T04OPjGH58Nu",
        "outputId": "5dda5ad0-a9c3-4395-8d56-790bdd63ed1e"
      },
      "execution_count": 56,
      "outputs": [
        {
          "output_type": "stream",
          "name": "stdout",
          "text": [
            "root\n",
            " |-- longitude: double (nullable = true)\n",
            " |-- latitude: double (nullable = true)\n",
            " |-- housing_median_age: double (nullable = true)\n",
            " |-- total_rooms: double (nullable = true)\n",
            " |-- total_bedrooms: double (nullable = true)\n",
            " |-- population: double (nullable = true)\n",
            " |-- households: double (nullable = true)\n",
            " |-- median_income: double (nullable = true)\n",
            " |-- median_house_value: double (nullable = true)\n",
            "\n"
          ]
        }
      ]
    },
    {
      "cell_type": "code",
      "source": [
        "df.show(10)"
      ],
      "metadata": {
        "colab": {
          "base_uri": "https://localhost:8080/"
        },
        "id": "8Y9wJeLB59Lb",
        "outputId": "96ceaa6b-2694-4c1d-912a-de082101d80e"
      },
      "execution_count": 57,
      "outputs": [
        {
          "output_type": "stream",
          "name": "stdout",
          "text": [
            "+---------+--------+------------------+-----------+--------------+----------+----------+-------------+------------------+\n",
            "|longitude|latitude|housing_median_age|total_rooms|total_bedrooms|population|households|median_income|median_house_value|\n",
            "+---------+--------+------------------+-----------+--------------+----------+----------+-------------+------------------+\n",
            "|  -114.31|   34.19|              15.0|     5612.0|        1283.0|    1015.0|     472.0|       1.4936|           66900.0|\n",
            "|  -114.47|    34.4|              19.0|     7650.0|        1901.0|    1129.0|     463.0|         1.82|           80100.0|\n",
            "|  -114.56|   33.69|              17.0|      720.0|         174.0|     333.0|     117.0|       1.6509|           85700.0|\n",
            "|  -114.57|   33.64|              14.0|     1501.0|         337.0|     515.0|     226.0|       3.1917|           73400.0|\n",
            "|  -114.57|   33.57|              20.0|     1454.0|         326.0|     624.0|     262.0|        1.925|           65500.0|\n",
            "|  -114.58|   33.63|              29.0|     1387.0|         236.0|     671.0|     239.0|       3.3438|           74000.0|\n",
            "|  -114.58|   33.61|              25.0|     2907.0|         680.0|    1841.0|     633.0|       2.6768|           82400.0|\n",
            "|  -114.59|   34.83|              41.0|      812.0|         168.0|     375.0|     158.0|       1.7083|           48500.0|\n",
            "|  -114.59|   33.61|              34.0|     4789.0|        1175.0|    3134.0|    1056.0|       2.1782|           58400.0|\n",
            "|   -114.6|   34.83|              46.0|     1497.0|         309.0|     787.0|     271.0|       2.1908|           48100.0|\n",
            "+---------+--------+------------------+-----------+--------------+----------+----------+-------------+------------------+\n",
            "only showing top 10 rows\n",
            "\n"
          ]
        }
      ]
    },
    {
      "cell_type": "markdown",
      "source": [
        "## InferSchema"
      ],
      "metadata": {
        "id": "32X2vs4o6RMh"
      }
    },
    {
      "cell_type": "code",
      "source": [
        "csv_file_path_inferschema = \"/content/sample_data/california_housing_train.csv\"\n",
        "df = spark.read.csv(csv_file_path_schema, header=True, inferSchema=True)"
      ],
      "metadata": {
        "id": "qo29DuG76A01"
      },
      "execution_count": 58,
      "outputs": []
    },
    {
      "cell_type": "code",
      "source": [
        "df.printSchema()"
      ],
      "metadata": {
        "colab": {
          "base_uri": "https://localhost:8080/"
        },
        "id": "u1XrstAZ6abn",
        "outputId": "3c06e738-be12-40e9-98f1-c2485aa50695"
      },
      "execution_count": 59,
      "outputs": [
        {
          "output_type": "stream",
          "name": "stdout",
          "text": [
            "root\n",
            " |-- longitude: double (nullable = true)\n",
            " |-- latitude: double (nullable = true)\n",
            " |-- housing_median_age: double (nullable = true)\n",
            " |-- total_rooms: double (nullable = true)\n",
            " |-- total_bedrooms: double (nullable = true)\n",
            " |-- population: double (nullable = true)\n",
            " |-- households: double (nullable = true)\n",
            " |-- median_income: double (nullable = true)\n",
            " |-- median_house_value: double (nullable = true)\n",
            "\n"
          ]
        }
      ]
    },
    {
      "cell_type": "markdown",
      "source": [
        "# Lendo arquivos JSON"
      ],
      "metadata": {
        "id": "XAsVM1iK6hCt"
      }
    },
    {
      "cell_type": "code",
      "source": [
        "json_file_path = \"/content/sample_data/anscombe.json\"\n",
        "df_json = spark.read.json(json_file_path, multiLine=True)"
      ],
      "metadata": {
        "id": "pL9msolV6cXp"
      },
      "execution_count": 67,
      "outputs": []
    },
    {
      "cell_type": "code",
      "source": [
        "df_json.printSchema()"
      ],
      "metadata": {
        "colab": {
          "base_uri": "https://localhost:8080/"
        },
        "id": "7IJVmJw-8QL6",
        "outputId": "363cc2ab-4937-4f1d-e22a-fc24b4673109"
      },
      "execution_count": 68,
      "outputs": [
        {
          "output_type": "stream",
          "name": "stdout",
          "text": [
            "root\n",
            " |-- Series: string (nullable = true)\n",
            " |-- X: double (nullable = true)\n",
            " |-- Y: double (nullable = true)\n",
            "\n"
          ]
        }
      ]
    },
    {
      "cell_type": "code",
      "source": [
        "df_json.show(10)"
      ],
      "metadata": {
        "colab": {
          "base_uri": "https://localhost:8080/"
        },
        "id": "-wU_fEzE8Vdk",
        "outputId": "4916b3a7-350b-4fe9-b434-98efafe75098"
      },
      "execution_count": 69,
      "outputs": [
        {
          "output_type": "stream",
          "name": "stdout",
          "text": [
            "+------+----+-----+\n",
            "|Series|   X|    Y|\n",
            "+------+----+-----+\n",
            "|     I|10.0| 8.04|\n",
            "|     I| 8.0| 6.95|\n",
            "|     I|13.0| 7.58|\n",
            "|     I| 9.0| 8.81|\n",
            "|     I|11.0| 8.33|\n",
            "|     I|14.0| 9.96|\n",
            "|     I| 6.0| 7.24|\n",
            "|     I| 4.0| 4.26|\n",
            "|     I|12.0|10.84|\n",
            "|     I| 7.0| 4.81|\n",
            "+------+----+-----+\n",
            "only showing top 10 rows\n",
            "\n"
          ]
        }
      ]
    },
    {
      "cell_type": "markdown",
      "source": [
        "# Operações com DataFrames"
      ],
      "metadata": {
        "id": "Fd3bCm-n9iD7"
      }
    },
    {
      "cell_type": "code",
      "source": [
        "data_file_path = \"/content/stocks.txt\"\n",
        "df = spark.read.csv(data_file_path, header=True, inferSchema=True)\n",
        "df.show(10)"
      ],
      "metadata": {
        "colab": {
          "base_uri": "https://localhost:8080/"
        },
        "id": "KEtVYs35-S_4",
        "outputId": "8975f63c-13df-46a5-e147-d754695b3024"
      },
      "execution_count": 72,
      "outputs": [
        {
          "output_type": "stream",
          "name": "stdout",
          "text": [
            "+---+----------------+-----------+--------+-------+\n",
            "| id|            name|   category|quantity|  price|\n",
            "+---+----------------+-----------+--------+-------+\n",
            "|  1|          iPhone|Electronics|      10| 899.99|\n",
            "|  2|         Macbook|Electronics|       5|1299.99|\n",
            "|  3|            iPad|Electronics|      15| 499.99|\n",
            "|  4|      Samsung TV|Electronics|       8| 799.99|\n",
            "|  5|           LG TV|Electronics|      10| 699.99|\n",
            "|  6|      Nike Shoes|   Clothing|      30|  99.99|\n",
            "|  7|    Adidas Shoes|   Clothing|      25|  89.99|\n",
            "|  8| Sony Headphones|Electronics|      12| 149.99|\n",
            "|  9|Beats Headphones|Electronics|      20| 199.99|\n",
            "| 10|    Dining Table|  Furniture|      10| 249.99|\n",
            "+---+----------------+-----------+--------+-------+\n",
            "only showing top 10 rows\n",
            "\n"
          ]
        }
      ]
    },
    {
      "cell_type": "code",
      "source": [
        "df.printSchema()"
      ],
      "metadata": {
        "colab": {
          "base_uri": "https://localhost:8080/"
        },
        "id": "KcO3aPLP-gv7",
        "outputId": "61d93606-a202-47c9-c8a5-cd3c97439b06"
      },
      "execution_count": 73,
      "outputs": [
        {
          "output_type": "stream",
          "name": "stdout",
          "text": [
            "root\n",
            " |-- id: integer (nullable = true)\n",
            " |-- name: string (nullable = true)\n",
            " |-- category: string (nullable = true)\n",
            " |-- quantity: integer (nullable = true)\n",
            " |-- price: double (nullable = true)\n",
            "\n"
          ]
        }
      ]
    },
    {
      "cell_type": "markdown",
      "source": [
        "### Seleção de colunas"
      ],
      "metadata": {
        "id": "orrkrGud-zex"
      }
    },
    {
      "cell_type": "code",
      "source": [
        "select_columns =  df.select(\"id\", \"name\", \"price\")\n",
        "select_columns.show(10)"
      ],
      "metadata": {
        "colab": {
          "base_uri": "https://localhost:8080/"
        },
        "id": "UCcQKCZH-pSQ",
        "outputId": "d2ddfdc6-2029-4580-d982-1a603d4b000b"
      },
      "execution_count": 74,
      "outputs": [
        {
          "output_type": "stream",
          "name": "stdout",
          "text": [
            "+---+----------------+-------+\n",
            "| id|            name|  price|\n",
            "+---+----------------+-------+\n",
            "|  1|          iPhone| 899.99|\n",
            "|  2|         Macbook|1299.99|\n",
            "|  3|            iPad| 499.99|\n",
            "|  4|      Samsung TV| 799.99|\n",
            "|  5|           LG TV| 699.99|\n",
            "|  6|      Nike Shoes|  99.99|\n",
            "|  7|    Adidas Shoes|  89.99|\n",
            "|  8| Sony Headphones| 149.99|\n",
            "|  9|Beats Headphones| 199.99|\n",
            "| 10|    Dining Table| 249.99|\n",
            "+---+----------------+-------+\n",
            "only showing top 10 rows\n",
            "\n"
          ]
        }
      ]
    },
    {
      "cell_type": "markdown",
      "source": [
        "### Filtragem de linhas"
      ],
      "metadata": {
        "id": "YN1QsqkV_Ii9"
      }
    },
    {
      "cell_type": "code",
      "source": [
        "filtered_data = df.filter(df.quantity > 20)\n",
        "print(\"Dados filtrados: \", filtered_data.count())\n",
        "filtered_data.show(10)"
      ],
      "metadata": {
        "colab": {
          "base_uri": "https://localhost:8080/"
        },
        "id": "pKQ6LNm2_Fwe",
        "outputId": "e7e15fbb-a6fd-4e54-c229-23bf35064236"
      },
      "execution_count": 75,
      "outputs": [
        {
          "output_type": "stream",
          "name": "stdout",
          "text": [
            "Dados filtrados:  44\n",
            "+---+--------------+-----------+--------+-----+\n",
            "| id|          name|   category|quantity|price|\n",
            "+---+--------------+-----------+--------+-----+\n",
            "|  6|    Nike Shoes|   Clothing|      30|99.99|\n",
            "|  7|  Adidas Shoes|   Clothing|      25|89.99|\n",
            "| 12|        Apples|       Food|     100|  0.5|\n",
            "| 13|       Bananas|       Food|     150| 0.25|\n",
            "| 14|       Oranges|       Food|     120| 0.75|\n",
            "| 15|Chicken Breast|       Food|      50| 3.99|\n",
            "| 16| Salmon Fillet|       Food|      30| 5.99|\n",
            "| 24|    Laptop Bag|Accessories|      25|29.99|\n",
            "| 25|      Backpack|Accessories|      30|24.99|\n",
            "| 28|         Jeans|   Clothing|      30|59.99|\n",
            "+---+--------------+-----------+--------+-----+\n",
            "only showing top 10 rows\n",
            "\n"
          ]
        }
      ]
    },
    {
      "cell_type": "markdown",
      "source": [
        "### Agrupamento e Agregações"
      ],
      "metadata": {
        "id": "U-5fJJOZ_e-s"
      }
    },
    {
      "cell_type": "code",
      "source": [
        "grouped_data = df.groupBy(\"category\").agg({\"price\": \"avg\", \"quantity\": \"sum\"})\n",
        "grouped_data.show()"
      ],
      "metadata": {
        "colab": {
          "base_uri": "https://localhost:8080/"
        },
        "id": "zBgBK0eR_a6D",
        "outputId": "bc3d2a36-2b71-43e5-80dd-72fb62555b70"
      },
      "execution_count": 78,
      "outputs": [
        {
          "output_type": "stream",
          "name": "stdout",
          "text": [
            "+-----------+-------------+------------------+\n",
            "|   category|sum(quantity)|        avg(price)|\n",
            "+-----------+-------------+------------------+\n",
            "|       Food|         1035|  3.06923076923077|\n",
            "|     Sports|          127|264.43444444444435|\n",
            "|Electronics|          446| 369.6869696969695|\n",
            "|   Clothing|          540| 63.99000000000001|\n",
            "|  Furniture|          116|  193.066923076923|\n",
            "|Accessories|          935| 21.63705882352942|\n",
            "+-----------+-------------+------------------+\n",
            "\n"
          ]
        }
      ]
    },
    {
      "cell_type": "markdown",
      "source": [
        "### Join"
      ],
      "metadata": {
        "id": "el7iieTSDeL8"
      }
    },
    {
      "cell_type": "code",
      "source": [
        "df2 = df.select(\"id\", \"category\").limit(10)\n",
        "join_data = df.join(df2, \"id\", \"inner\")\n",
        "join_data.show()"
      ],
      "metadata": {
        "colab": {
          "base_uri": "https://localhost:8080/"
        },
        "id": "wTuipFxTBDoX",
        "outputId": "5162fadd-4733-4b29-f39f-d590b465ccb5"
      },
      "execution_count": 79,
      "outputs": [
        {
          "output_type": "stream",
          "name": "stdout",
          "text": [
            "+---+----------------+-----------+--------+-------+-----------+\n",
            "| id|            name|   category|quantity|  price|   category|\n",
            "+---+----------------+-----------+--------+-------+-----------+\n",
            "|  1|          iPhone|Electronics|      10| 899.99|Electronics|\n",
            "|  2|         Macbook|Electronics|       5|1299.99|Electronics|\n",
            "|  3|            iPad|Electronics|      15| 499.99|Electronics|\n",
            "|  4|      Samsung TV|Electronics|       8| 799.99|Electronics|\n",
            "|  5|           LG TV|Electronics|      10| 699.99|Electronics|\n",
            "|  6|      Nike Shoes|   Clothing|      30|  99.99|   Clothing|\n",
            "|  7|    Adidas Shoes|   Clothing|      25|  89.99|   Clothing|\n",
            "|  8| Sony Headphones|Electronics|      12| 149.99|Electronics|\n",
            "|  9|Beats Headphones|Electronics|      20| 199.99|Electronics|\n",
            "| 10|    Dining Table|  Furniture|      10| 249.99|  Furniture|\n",
            "+---+----------------+-----------+--------+-------+-----------+\n",
            "\n"
          ]
        }
      ]
    },
    {
      "cell_type": "markdown",
      "source": [
        "### Sorting"
      ],
      "metadata": {
        "id": "rRNirdJ1D6iW"
      }
    },
    {
      "cell_type": "code",
      "source": [
        "sorted_data = df.orderBy(\"price\")\n",
        "sorted_data.show(10)"
      ],
      "metadata": {
        "colab": {
          "base_uri": "https://localhost:8080/"
        },
        "id": "E4D9t-ApDzg_",
        "outputId": "d9dd0c95-ef7b-442f-fb52-25b6de54d099"
      },
      "execution_count": 80,
      "outputs": [
        {
          "output_type": "stream",
          "name": "stdout",
          "text": [
            "+---+------------+-----------+--------+-----+\n",
            "| id|        name|   category|quantity|price|\n",
            "+---+------------+-----------+--------+-----+\n",
            "| 13|     Bananas|       Food|     150| 0.25|\n",
            "| 12|      Apples|       Food|     100|  0.5|\n",
            "| 14|     Oranges|       Food|     120| 0.75|\n",
            "| 87|      Eraser|Accessories|     150| 0.99|\n",
            "| 46|      Yogurt|       Food|      70| 1.49|\n",
            "| 88|       Ruler|Accessories|     120| 1.49|\n",
            "| 41|        Milk|       Food|     100| 1.99|\n",
            "| 85|    Notebook|Accessories|     100| 1.99|\n",
            "| 42|       Bread|       Food|      95| 2.49|\n",
            "| 90|Sticky Notes|Accessories|      70| 2.49|\n",
            "+---+------------+-----------+--------+-----+\n",
            "only showing top 10 rows\n",
            "\n"
          ]
        }
      ]
    },
    {
      "cell_type": "code",
      "source": [
        "sorted_data = df.orderBy(\"price\", ascending=False)\n",
        "sorted_data.show(10)"
      ],
      "metadata": {
        "colab": {
          "base_uri": "https://localhost:8080/"
        },
        "id": "kZpLaXyFEEwR",
        "outputId": "89868e00-c372-4e70-eb8f-5ce7ab2b811b"
      },
      "execution_count": 82,
      "outputs": [
        {
          "output_type": "stream",
          "name": "stdout",
          "text": [
            "+---+--------------+-----------+--------+-------+\n",
            "| id|          name|   category|quantity|  price|\n",
            "+---+--------------+-----------+--------+-------+\n",
            "|100|  Laser Cutter|Electronics|       1|1499.99|\n",
            "|  2|       Macbook|Electronics|       5|1299.99|\n",
            "| 99|    3D Printer|Electronics|       2|1199.99|\n",
            "| 96| Smart Glasses|Electronics|       2| 999.99|\n",
            "|  1|        iPhone|Electronics|      10| 899.99|\n",
            "|  4|    Samsung TV|Electronics|       8| 799.99|\n",
            "| 57|Rowing Machine|     Sports|       3| 799.99|\n",
            "| 77|          Sofa|  Furniture|       3| 799.99|\n",
            "| 95|         Drone|Electronics|       3| 799.99|\n",
            "|  5|         LG TV|Electronics|      10| 699.99|\n",
            "+---+--------------+-----------+--------+-------+\n",
            "only showing top 10 rows\n",
            "\n"
          ]
        }
      ]
    },
    {
      "cell_type": "markdown",
      "source": [
        "### Linhas unicas"
      ],
      "metadata": {
        "id": "yfGp4bHMF2Md"
      }
    },
    {
      "cell_type": "code",
      "source": [
        "distinct_data = df.select(\"category\").distinct()\n",
        "distinct_data.show()"
      ],
      "metadata": {
        "colab": {
          "base_uri": "https://localhost:8080/"
        },
        "id": "goHTe8ahEPxl",
        "outputId": "1cf66b03-6a03-45c9-ab19-98a88cdf6233"
      },
      "execution_count": 83,
      "outputs": [
        {
          "output_type": "stream",
          "name": "stdout",
          "text": [
            "+-----------+\n",
            "|   category|\n",
            "+-----------+\n",
            "|       Food|\n",
            "|     Sports|\n",
            "|Electronics|\n",
            "|   Clothing|\n",
            "|  Furniture|\n",
            "|Accessories|\n",
            "+-----------+\n",
            "\n"
          ]
        }
      ]
    },
    {
      "cell_type": "markdown",
      "source": [
        "### Drop"
      ],
      "metadata": {
        "id": "6kqKQeKeF966"
      }
    },
    {
      "cell_type": "code",
      "source": [
        "drop_columns = df.drop(\"category\")\n",
        "drop_columns.show(10)"
      ],
      "metadata": {
        "colab": {
          "base_uri": "https://localhost:8080/"
        },
        "id": "s2P-0-giF5fG",
        "outputId": "4d3a295a-34bf-4ff7-baba-d20e8aecff71"
      },
      "execution_count": 84,
      "outputs": [
        {
          "output_type": "stream",
          "name": "stdout",
          "text": [
            "+---+----------------+--------+-------+\n",
            "| id|            name|quantity|  price|\n",
            "+---+----------------+--------+-------+\n",
            "|  1|          iPhone|      10| 899.99|\n",
            "|  2|         Macbook|       5|1299.99|\n",
            "|  3|            iPad|      15| 499.99|\n",
            "|  4|      Samsung TV|       8| 799.99|\n",
            "|  5|           LG TV|      10| 699.99|\n",
            "|  6|      Nike Shoes|      30|  99.99|\n",
            "|  7|    Adidas Shoes|      25|  89.99|\n",
            "|  8| Sony Headphones|      12| 149.99|\n",
            "|  9|Beats Headphones|      20| 199.99|\n",
            "| 10|    Dining Table|      10| 249.99|\n",
            "+---+----------------+--------+-------+\n",
            "only showing top 10 rows\n",
            "\n"
          ]
        }
      ]
    },
    {
      "cell_type": "markdown",
      "source": [
        "### Adicionando novas colunas"
      ],
      "metadata": {
        "id": "AVmV2UWOGGIA"
      }
    },
    {
      "cell_type": "code",
      "source": [
        "df_with_new_columns = df.withColumn(\"revenue\", df.quantity * df.price)\n",
        "df_with_new_columns.show(10)"
      ],
      "metadata": {
        "colab": {
          "base_uri": "https://localhost:8080/"
        },
        "id": "-oS0a-2AGFmq",
        "outputId": "1a86316c-0d92-4151-8367-ea53901ecb52"
      },
      "execution_count": 85,
      "outputs": [
        {
          "output_type": "stream",
          "name": "stdout",
          "text": [
            "+---+----------------+-----------+--------+-------+-------+\n",
            "| id|            name|   category|quantity|  price|revenue|\n",
            "+---+----------------+-----------+--------+-------+-------+\n",
            "|  1|          iPhone|Electronics|      10| 899.99| 8999.9|\n",
            "|  2|         Macbook|Electronics|       5|1299.99|6499.95|\n",
            "|  3|            iPad|Electronics|      15| 499.99|7499.85|\n",
            "|  4|      Samsung TV|Electronics|       8| 799.99|6399.92|\n",
            "|  5|           LG TV|Electronics|      10| 699.99| 6999.9|\n",
            "|  6|      Nike Shoes|   Clothing|      30|  99.99| 2999.7|\n",
            "|  7|    Adidas Shoes|   Clothing|      25|  89.99|2249.75|\n",
            "|  8| Sony Headphones|Electronics|      12| 149.99|1799.88|\n",
            "|  9|Beats Headphones|Electronics|      20| 199.99| 3999.8|\n",
            "| 10|    Dining Table|  Furniture|      10| 249.99| 2499.9|\n",
            "+---+----------------+-----------+--------+-------+-------+\n",
            "only showing top 10 rows\n",
            "\n"
          ]
        }
      ]
    },
    {
      "cell_type": "markdown",
      "source": [
        "### Renomeação"
      ],
      "metadata": {
        "id": "M8BAoilTGZbX"
      }
    },
    {
      "cell_type": "code",
      "source": [
        "df_with_alias = df.withColumnRenamed(\"name\", \"product_name\")\n",
        "df_with_alias.show(10)"
      ],
      "metadata": {
        "colab": {
          "base_uri": "https://localhost:8080/"
        },
        "id": "u2CahDRCGEXx",
        "outputId": "a7aeff3c-05dc-47f0-f646-1b531d8fd012"
      },
      "execution_count": 86,
      "outputs": [
        {
          "output_type": "stream",
          "name": "stdout",
          "text": [
            "+---+----------------+-----------+--------+-------+\n",
            "| id|    product_name|   category|quantity|  price|\n",
            "+---+----------------+-----------+--------+-------+\n",
            "|  1|          iPhone|Electronics|      10| 899.99|\n",
            "|  2|         Macbook|Electronics|       5|1299.99|\n",
            "|  3|            iPad|Electronics|      15| 499.99|\n",
            "|  4|      Samsung TV|Electronics|       8| 799.99|\n",
            "|  5|           LG TV|Electronics|      10| 699.99|\n",
            "|  6|      Nike Shoes|   Clothing|      30|  99.99|\n",
            "|  7|    Adidas Shoes|   Clothing|      25|  89.99|\n",
            "|  8| Sony Headphones|Electronics|      12| 149.99|\n",
            "|  9|Beats Headphones|Electronics|      20| 199.99|\n",
            "| 10|    Dining Table|  Furniture|      10| 249.99|\n",
            "+---+----------------+-----------+--------+-------+\n",
            "only showing top 10 rows\n",
            "\n"
          ]
        }
      ]
    },
    {
      "cell_type": "code",
      "source": [
        "spark.stop()"
      ],
      "metadata": {
        "id": "M9yf1occGizV"
      },
      "execution_count": 87,
      "outputs": []
    },
    {
      "cell_type": "markdown",
      "source": [
        "# Spark SQL"
      ],
      "metadata": {
        "id": "TLeX3rnmGvD-"
      }
    },
    {
      "cell_type": "code",
      "source": [
        "spark = SparkSession.builder.appName(\"SparkSQL_Demo\").getOrCreate()"
      ],
      "metadata": {
        "id": "bF6LjuQGGmU_"
      },
      "execution_count": 88,
      "outputs": []
    },
    {
      "cell_type": "code",
      "source": [
        "file_path = \"/content/employees.csv\"\n",
        "df = spark.read.csv(file_path, header=True, inferSchema=True)\n",
        "df.show()"
      ],
      "metadata": {
        "colab": {
          "base_uri": "https://localhost:8080/"
        },
        "id": "8ea_9WBTIKsC",
        "outputId": "c5632bcc-9fd2-432b-b527-d854751e2b89"
      },
      "execution_count": 89,
      "outputs": [
        {
          "output_type": "stream",
          "name": "stdout",
          "text": [
            "+-------+---+------+---------+\n",
            "|   name|age|gender|   salary|\n",
            "+-------+---+------+---------+\n",
            "|  Yusuf| 43|Female| 86578.46|\n",
            "|  Laura| 57|Female| 47389.78|\n",
            "|  Julia| 44|  Male| 31511.88|\n",
            "|  Alice| 46| Other| 48866.98|\n",
            "|   Tina| 27| Other| 66748.92|\n",
            "|Quentin| 57|Female|111466.92|\n",
            "|Charlie| 32| Other| 46416.16|\n",
            "|Quentin| 30| Other| 80475.83|\n",
            "|    Ian| 55|  Male| 93695.64|\n",
            "|  Oscar| 46|Female| 44608.38|\n",
            "|   Umar| 56| Other| 73034.14|\n",
            "|  Alice| 27|Female|105737.08|\n",
            "|   Xena| 52|Female| 95854.65|\n",
            "|   Nina| 23| Other| 53907.78|\n",
            "|   Tina| 33|  Male| 37873.35|\n",
            "|  Paula| 25|  Male| 37159.34|\n",
            "|  Alice| 36|Female| 39459.19|\n",
            "| George| 46|Female|  39155.6|\n",
            "| Violet| 38|  Male| 82755.47|\n",
            "|  Julia| 38|  Male|117771.75|\n",
            "+-------+---+------+---------+\n",
            "only showing top 20 rows\n",
            "\n"
          ]
        }
      ]
    },
    {
      "cell_type": "code",
      "source": [
        "df.printSchema()"
      ],
      "metadata": {
        "colab": {
          "base_uri": "https://localhost:8080/"
        },
        "id": "RdSSBg62IqUK",
        "outputId": "5f34a341-41a2-487f-f556-2e9106036786"
      },
      "execution_count": 90,
      "outputs": [
        {
          "output_type": "stream",
          "name": "stdout",
          "text": [
            "root\n",
            " |-- name: string (nullable = true)\n",
            " |-- age: integer (nullable = true)\n",
            " |-- gender: string (nullable = true)\n",
            " |-- salary: double (nullable = true)\n",
            "\n"
          ]
        }
      ]
    },
    {
      "cell_type": "markdown",
      "source": [
        "## Registrando o DataFrame como uma tabela temporaria"
      ],
      "metadata": {
        "id": "6ZKnp6DtIyL7"
      }
    },
    {
      "cell_type": "code",
      "source": [
        "df.createOrReplaceTempView(\"employees\")"
      ],
      "metadata": {
        "id": "_qs--2e4Ivul"
      },
      "execution_count": 91,
      "outputs": []
    },
    {
      "cell_type": "code",
      "source": [
        "result = spark.sql(\"SELECT * FROM employees WHERE age > 30\")\n",
        "result.show()"
      ],
      "metadata": {
        "colab": {
          "base_uri": "https://localhost:8080/"
        },
        "id": "YGNaaSToKQRe",
        "outputId": "c1adcea5-96b5-4d51-970b-a6839499455a"
      },
      "execution_count": 92,
      "outputs": [
        {
          "output_type": "stream",
          "name": "stdout",
          "text": [
            "+-------+---+------+---------+\n",
            "|   name|age|gender|   salary|\n",
            "+-------+---+------+---------+\n",
            "|  Yusuf| 43|Female| 86578.46|\n",
            "|  Laura| 57|Female| 47389.78|\n",
            "|  Julia| 44|  Male| 31511.88|\n",
            "|  Alice| 46| Other| 48866.98|\n",
            "|Quentin| 57|Female|111466.92|\n",
            "|Charlie| 32| Other| 46416.16|\n",
            "|    Ian| 55|  Male| 93695.64|\n",
            "|  Oscar| 46|Female| 44608.38|\n",
            "|   Umar| 56| Other| 73034.14|\n",
            "|   Xena| 52|Female| 95854.65|\n",
            "|   Tina| 33|  Male| 37873.35|\n",
            "|  Alice| 36|Female| 39459.19|\n",
            "| George| 46|Female|  39155.6|\n",
            "| Violet| 38|  Male| 82755.47|\n",
            "|  Julia| 38|  Male|117771.75|\n",
            "| Edward| 58|  Male|110338.49|\n",
            "|  Julia| 41|  Male| 79133.32|\n",
            "|Charlie| 39| Other| 41167.06|\n",
            "| Edward| 56|Female| 58327.04|\n",
            "|    Bob| 40|Female| 44123.49|\n",
            "+-------+---+------+---------+\n",
            "only showing top 20 rows\n",
            "\n"
          ]
        }
      ]
    },
    {
      "cell_type": "code",
      "source": [
        "avg_salary_by_gender = spark.sql(\"SELECT gender, AVG(salary) AS avg_salary FROM employees GROUP BY gender\")\n",
        "avg_salary_by_gender.show()"
      ],
      "metadata": {
        "colab": {
          "base_uri": "https://localhost:8080/"
        },
        "id": "dwCEUexoKaJ0",
        "outputId": "90ab9678-0c14-4651-80d9-b26f4d1db5bf"
      },
      "execution_count": 98,
      "outputs": [
        {
          "output_type": "stream",
          "name": "stdout",
          "text": [
            "+------+-----------------+\n",
            "|gender|       avg_salary|\n",
            "+------+-----------------+\n",
            "|Female|72023.52731707317|\n",
            "| Other|70028.68531249999|\n",
            "|  Male|77439.64370370371|\n",
            "+------+-----------------+\n",
            "\n"
          ]
        }
      ]
    },
    {
      "cell_type": "markdown",
      "source": [
        "## Criando e gerenciando visualizações temporarias"
      ],
      "metadata": {
        "id": "4-_sRiSLLGhu"
      }
    },
    {
      "cell_type": "code",
      "source": [
        "df.createOrReplaceTempView(\"employees\")"
      ],
      "metadata": {
        "id": "XWe-V8L9KueV"
      },
      "execution_count": 99,
      "outputs": []
    },
    {
      "cell_type": "code",
      "source": [
        "result = spark.sql(\"SELECT * FROM employees WHERE age > 40\")\n",
        "result.show()"
      ],
      "metadata": {
        "colab": {
          "base_uri": "https://localhost:8080/"
        },
        "id": "Wt7miW2PNQmb",
        "outputId": "40091da1-42cb-4f70-bcec-9ee71e31dcc2"
      },
      "execution_count": 101,
      "outputs": [
        {
          "output_type": "stream",
          "name": "stdout",
          "text": [
            "+-------+---+------+---------+\n",
            "|   name|age|gender|   salary|\n",
            "+-------+---+------+---------+\n",
            "|  Yusuf| 43|Female| 86578.46|\n",
            "|  Laura| 57|Female| 47389.78|\n",
            "|  Julia| 44|  Male| 31511.88|\n",
            "|  Alice| 46| Other| 48866.98|\n",
            "|Quentin| 57|Female|111466.92|\n",
            "|    Ian| 55|  Male| 93695.64|\n",
            "|  Oscar| 46|Female| 44608.38|\n",
            "|   Umar| 56| Other| 73034.14|\n",
            "|   Xena| 52|Female| 95854.65|\n",
            "| George| 46|Female|  39155.6|\n",
            "| Edward| 58|  Male|110338.49|\n",
            "|  Julia| 41|  Male| 79133.32|\n",
            "| Edward| 56|Female| 58327.04|\n",
            "|  Fiona| 42|Female| 96926.92|\n",
            "| Violet| 58| Other|107608.74|\n",
            "| Edward| 54|Female|  71366.5|\n",
            "|  Yusuf| 53| Other| 53739.83|\n",
            "|Quentin| 47|Female|115149.73|\n",
            "|   Nina| 56|Female|117634.09|\n",
            "| Violet| 41|  Male| 36420.98|\n",
            "+-------+---+------+---------+\n",
            "only showing top 20 rows\n",
            "\n"
          ]
        }
      ]
    },
    {
      "cell_type": "code",
      "source": [
        "view_exists = spark.catalog.tableExists(\"employees\")\n",
        "view_exists"
      ],
      "metadata": {
        "colab": {
          "base_uri": "https://localhost:8080/"
        },
        "id": "KTg39qgPNVXz",
        "outputId": "1faccde7-ccf1-4039-83ff-e747d9defeb3"
      },
      "execution_count": 102,
      "outputs": [
        {
          "output_type": "execute_result",
          "data": {
            "text/plain": [
              "True"
            ]
          },
          "metadata": {},
          "execution_count": 102
        }
      ]
    },
    {
      "cell_type": "code",
      "source": [
        "spark.catalog.dropTempView(\"employees\")"
      ],
      "metadata": {
        "colab": {
          "base_uri": "https://localhost:8080/"
        },
        "id": "wWXvOOTqNoLM",
        "outputId": "9ee49c8a-0568-4009-f4bc-1f8ac5c80d81"
      },
      "execution_count": 103,
      "outputs": [
        {
          "output_type": "execute_result",
          "data": {
            "text/plain": [
              "True"
            ]
          },
          "metadata": {},
          "execution_count": 103
        }
      ]
    },
    {
      "cell_type": "markdown",
      "source": [
        "## Subquries"
      ],
      "metadata": {
        "id": "TmhktlqWNuvC"
      }
    },
    {
      "cell_type": "code",
      "source": [
        "employee_data = [\n",
        "    (1, \"John\"), (2, \"Alice\"), (3, \"Bob\"), (4, \"Emily\"),\n",
        "    (5, \"David\"), (6, \"Sarah\"), (7, \"Michael\"), (8, \"Lisa\"),\n",
        "    (9, \"William\")\n",
        "]\n",
        "\n",
        "employees = spark.createDataFrame(employee_data, [\"id\", \"name\"])\n",
        "\n",
        "salary_data = [\n",
        "    (\"HR\", 1, 60000), (\"HR\", 2, 55000), (\"HR\", 3, 58000),\n",
        "    (\"IT\", 4, 70000), (\"IT\", 5, 72000), (\"IT\", 6, 68000),\n",
        "    (\"Sales\", 7, 75000), (\"Sales\", 8, 78000), (\"Sales\", 9, 77000)\n",
        "]\n",
        "\n",
        "salaries = spark.createDataFrame(salary_data, [\"department\", \"id\", \"salary\"])"
      ],
      "metadata": {
        "id": "3cxmGKqRNrtZ"
      },
      "execution_count": 104,
      "outputs": []
    },
    {
      "cell_type": "code",
      "source": [
        "employees.show()"
      ],
      "metadata": {
        "colab": {
          "base_uri": "https://localhost:8080/"
        },
        "id": "CGIOSNzlSPB1",
        "outputId": "7b93efec-5e68-4427-a881-6a58173724aa"
      },
      "execution_count": 107,
      "outputs": [
        {
          "output_type": "stream",
          "name": "stdout",
          "text": [
            "+---+-------+\n",
            "| id|   name|\n",
            "+---+-------+\n",
            "|  1|   John|\n",
            "|  2|  Alice|\n",
            "|  3|    Bob|\n",
            "|  4|  Emily|\n",
            "|  5|  David|\n",
            "|  6|  Sarah|\n",
            "|  7|Michael|\n",
            "|  8|   Lisa|\n",
            "|  9|William|\n",
            "+---+-------+\n",
            "\n"
          ]
        }
      ]
    },
    {
      "cell_type": "code",
      "source": [
        "salaries.show()"
      ],
      "metadata": {
        "colab": {
          "base_uri": "https://localhost:8080/"
        },
        "id": "2HJFgHXxSRxa",
        "outputId": "d7915256-5f6b-4697-9c26-afa5b68150fa"
      },
      "execution_count": 108,
      "outputs": [
        {
          "output_type": "stream",
          "name": "stdout",
          "text": [
            "+----------+---+------+\n",
            "|department| id|salary|\n",
            "+----------+---+------+\n",
            "|        HR|  1| 60000|\n",
            "|        HR|  2| 55000|\n",
            "|        HR|  3| 58000|\n",
            "|        IT|  4| 70000|\n",
            "|        IT|  5| 72000|\n",
            "|        IT|  6| 68000|\n",
            "|     Sales|  7| 75000|\n",
            "|     Sales|  8| 78000|\n",
            "|     Sales|  9| 77000|\n",
            "+----------+---+------+\n",
            "\n"
          ]
        }
      ]
    },
    {
      "cell_type": "code",
      "source": [
        "employees.createOrReplaceTempView(\"employees\")\n",
        "salaries.createOrReplaceTempView(\"salaries\")"
      ],
      "metadata": {
        "id": "p540nDJPRqfX"
      },
      "execution_count": 105,
      "outputs": []
    },
    {
      "cell_type": "code",
      "source": [
        "result = spark.sql(\"\"\"\n",
        "    SELECT name\n",
        "    FROM employees\n",
        "    WHERE id IN (\n",
        "        SELECT id\n",
        "        FROM salaries\n",
        "        WHERE salary > (SELECT AVG(salary) FROM salaries)\n",
        "    )\n",
        "\"\"\")\n",
        "\n",
        "result.show()"
      ],
      "metadata": {
        "colab": {
          "base_uri": "https://localhost:8080/"
        },
        "id": "nZZst3a1RzUU",
        "outputId": "cee888bb-591f-4ca1-f332-3d95d6737bd6"
      },
      "execution_count": 109,
      "outputs": [
        {
          "output_type": "stream",
          "name": "stdout",
          "text": [
            "+-------+\n",
            "|   name|\n",
            "+-------+\n",
            "|  Emily|\n",
            "|  David|\n",
            "|Michael|\n",
            "|   Lisa|\n",
            "|William|\n",
            "+-------+\n",
            "\n"
          ]
        }
      ]
    },
    {
      "cell_type": "markdown",
      "source": [
        "## Window Function"
      ],
      "metadata": {
        "id": "Bgy_RyLxSr4K"
      }
    },
    {
      "cell_type": "code",
      "source": [
        "from pyspark.sql.window import Window\n",
        "from pyspark.sql import functions as F"
      ],
      "metadata": {
        "id": "y-70ztzVSC9j"
      },
      "execution_count": 112,
      "outputs": []
    },
    {
      "cell_type": "code",
      "source": [
        "employees_salary = spark.sql(\"\"\"\n",
        "    SELECT salaries.*, employees.name\n",
        "    FROM salaries\n",
        "    LEFT JOIN employees\n",
        "    ON salaries.id = employees.id\n",
        "\n",
        "\"\"\")\n",
        "\n",
        "employees_salary.show()"
      ],
      "metadata": {
        "colab": {
          "base_uri": "https://localhost:8080/"
        },
        "id": "qUVrpFLFS4pK",
        "outputId": "6c299f67-8d80-41d2-845b-a9a7aa2fb02c"
      },
      "execution_count": 114,
      "outputs": [
        {
          "output_type": "stream",
          "name": "stdout",
          "text": [
            "+----------+---+------+-------+\n",
            "|department| id|salary|   name|\n",
            "+----------+---+------+-------+\n",
            "|        HR|  1| 60000|   John|\n",
            "|        HR|  3| 58000|    Bob|\n",
            "|        HR|  2| 55000|  Alice|\n",
            "|        IT|  4| 70000|  Emily|\n",
            "|     Sales|  7| 75000|Michael|\n",
            "|        IT|  6| 68000|  Sarah|\n",
            "|     Sales|  9| 77000|William|\n",
            "|        IT|  5| 72000|  David|\n",
            "|     Sales|  8| 78000|   Lisa|\n",
            "+----------+---+------+-------+\n",
            "\n"
          ]
        }
      ]
    },
    {
      "cell_type": "code",
      "source": [
        "window_spec = Window.partitionBy(\"department\").orderBy(F.desc(\"salary\"))"
      ],
      "metadata": {
        "id": "1Jj81JvhTMNB"
      },
      "execution_count": 117,
      "outputs": []
    },
    {
      "cell_type": "code",
      "source": [
        "employees_salary.withColumn(\"rank\", F.rank().over(window_spec)).show()"
      ],
      "metadata": {
        "colab": {
          "base_uri": "https://localhost:8080/"
        },
        "id": "f2z0ai2-TqY-",
        "outputId": "26474bc3-01e9-42a2-f607-3f1edca93c30"
      },
      "execution_count": 118,
      "outputs": [
        {
          "output_type": "stream",
          "name": "stdout",
          "text": [
            "+----------+---+------+-------+----+\n",
            "|department| id|salary|   name|rank|\n",
            "+----------+---+------+-------+----+\n",
            "|        HR|  1| 60000|   John|   1|\n",
            "|        HR|  3| 58000|    Bob|   2|\n",
            "|        HR|  2| 55000|  Alice|   3|\n",
            "|        IT|  5| 72000|  David|   1|\n",
            "|        IT|  4| 70000|  Emily|   2|\n",
            "|        IT|  6| 68000|  Sarah|   3|\n",
            "|     Sales|  8| 78000|   Lisa|   1|\n",
            "|     Sales|  9| 77000|William|   2|\n",
            "|     Sales|  7| 75000|Michael|   3|\n",
            "+----------+---+------+-------+----+\n",
            "\n"
          ]
        }
      ]
    },
    {
      "cell_type": "code",
      "source": [
        "spark.stop()"
      ],
      "metadata": {
        "id": "GDDOHS8OTy9L"
      },
      "execution_count": 119,
      "outputs": []
    }
  ]
}